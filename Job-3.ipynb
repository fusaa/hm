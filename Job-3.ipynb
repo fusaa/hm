{
 "cells": [
  {
   "cell_type": "code",
   "execution_count": 1,
   "id": "23346c0c",
   "metadata": {},
   "outputs": [],
   "source": [
    "import pandas as pd\n",
    "import os\n",
    "import sqlite3\n",
    "from sqlalchemy import create_engine\n",
    "\n",
    "data = pd.read_pickle('./hm_data - cleaned.pkl')"
   ]
  },
  {
   "cell_type": "code",
   "execution_count": 2,
   "id": "7d3bb867",
   "metadata": {
    "scrolled": true
   },
   "outputs": [],
   "source": [
    "# data.head()\n",
    "\n",
    "# df.iloc[1]\n",
    "\n",
    "# df.dtypes\n",
    "\n",
    "# df.columns\n",
    "\n",
    "# Does .sq file exists? if not create sql file.\n",
    "\n",
    "def main():\n",
    "    if os.path.exists('./hm_db.sqlite'):\n",
    "        print('File exists')\n",
    "        update()\n",
    "    else:\n",
    "        create_scheme()\n",
    "        update()\n",
    "\n",
    "    \n",
    "\n"
   ]
  },
  {
   "cell_type": "code",
   "execution_count": null,
   "id": "db79f8ea",
   "metadata": {},
   "outputs": [],
   "source": []
  },
  {
   "cell_type": "code",
   "execution_count": 3,
   "id": "277e42c2",
   "metadata": {
    "scrolled": true
   },
   "outputs": [],
   "source": [
    "# 1st create table / query\n",
    "\n",
    "def create_scheme():\n",
    "    query_showroom_schema = \"\"\"\n",
    "        CREATE TABLE showrooms (\n",
    "            color_id            INTEGER,\n",
    "            job2_datetime       TEXT,\n",
    "            sizes               TEXT,\n",
    "            availability        TEXT,\n",
    "            product_title       TEXT,\n",
    "            color               TEXT,\n",
    "            details_color       TEXT,\n",
    "            stars               FLOAT,\n",
    "            reviews             INTEGER,\n",
    "            fit                 TEXT,\n",
    "            composition         TEXT,\n",
    "            length              TEXT,\n",
    "            waist_rise          TEXT,\n",
    "            material            TEXT,\n",
    "            showcase_id         INTEGER,\n",
    "            price_item          REAL,\n",
    "            price_item_desc     REAL,\n",
    "            description         TEXT,\n",
    "            style_id            INTEGER,\n",
    "            shell_cotton        REAL,\n",
    "            shell_spandex       REAL,\n",
    "            shell_polyester     REAL,\n",
    "            shell_elasterell_p  REAL,\n",
    "            pocket_lining_cotton REAL,\n",
    "            pocket_lining_spandex  REAL,\n",
    "            pocket_lining_polyester REAL,\n",
    "            pocket_lining_elasterell_p REAL,\n",
    "            lining_cotton       REAL,\n",
    "            lining_spandex      REAL,\n",
    "            lining_polyester    REAL,\n",
    "            lining_elasterell_p REAL,\n",
    "            aux_index           INTEGER\n",
    "            )\n",
    "\n",
    "    \"\"\"\n",
    "    # conn.close()\n",
    "\n",
    "    # Connecting to db (actually na prática usamos essa linha só pra criar o arquivo do db)\n",
    "    conn = sqlite3.connect('hm_db.sqlite')  # connect returns a connection\n",
    "\n",
    "\n",
    "\n",
    "    # poderia apagar esse trecho:\n",
    "    cursor = conn.execute(query_showroom_schema) #returns a cursor...\n",
    "    conn.commit()  # needs to commit conn to db itself after creating cursor....\n",
    "    conn.close()  # closes the connection to db - so it wont stay open."
   ]
  },
  {
   "cell_type": "code",
   "execution_count": 4,
   "id": "8eaa5a18",
   "metadata": {},
   "outputs": [],
   "source": [
    "# poderia apagar esse trecho:\n",
    "#cursor = conn.execute(query_showroom_schema) #returns a cursor...\n",
    "#conn.commit()  # needs to commit conn to db itself after creating cursor....\n",
    "# conn.close()  # closes the connection to db - so it wont stay open."
   ]
  },
  {
   "cell_type": "code",
   "execution_count": 5,
   "id": "05219db3",
   "metadata": {},
   "outputs": [],
   "source": [
    "\n",
    "def update():\n",
    "    conn = create_engine ('sqlite:///hm_db.sqlite', echo=False)\n",
    "\n",
    "\n",
    "\n",
    "    query = '''\n",
    "        SELECT * FROM showrooms\n",
    "    '''\n",
    "\n",
    "    df = pd.read_sql_query(query, conn)\n",
    "    df.head()\n",
    "\n",
    "    # loading data to table  -- using pandas to_sql method\n",
    "    data.to_sql('showrooms', con=conn, if_exists='append', index=False)\n",
    "\n",
    "\n",
    "\n",
    "    df = pd.read_sql_query(query, conn)\n",
    "    conn = sqlite3.connect('hm_db.sqlite')\n",
    "    cursor = conn.execute(query)\n",
    "    conn.commit()\n",
    "    conn.close()\n",
    "    df.head()"
   ]
  },
  {
   "cell_type": "code",
   "execution_count": 6,
   "id": "2b479b82",
   "metadata": {},
   "outputs": [],
   "source": [
    "# Command - UPDATE\n",
    "\n",
    "# query = \"\"\"\n",
    "#     UPDATE showrooms\n",
    "#     SET product_title = 'tshirt'\n",
    "#     WHERE color_id = '985197002'\n",
    "# \"\"\"\n",
    "\n",
    "\n",
    "\n",
    "## Command - UPDATE\n",
    "#query = \"\"\"\n",
    "# UPDATE vitrine\n",
    "# SET product_category = 'jeans'\n",
    "# WHERE product_id = 636207006\n",
    "#\"\"\"\n",
    "## Command - DROP TABLE\n",
    "#query = \"\"\"\n",
    "# DROP TABLE vitrine\n",
    "#\"\"\"\n",
    "## Command - ALTER TABLE\n",
    "#query = \"\"\"\n",
    "# ALTER TABLE vitrine\n",
    "# RENAME TO vitrine_two\n",
    "#\"\"\"\n",
    "#\n",
    "## Command - CREATE INDEX\n",
    "#query = \"\"\"\n",
    "# CREATE INDEX idx_product_id\n",
    "# ON vitrine_two ( product_id )\n",
    "#\"\"\"\n",
    "\n",
    "\n",
    "\n",
    "\n",
    "\n",
    "\n",
    "# # Drop table\n",
    "# query = '''\n",
    "#     DROP TABLE showrooms\n",
    "# '''\n",
    "\n",
    "# conn = sqlite3.connect('hm_db.sqlite')\n",
    "# cursor = conn.execute(query)\n",
    "# conn.commit()\n",
    "# conn.close()"
   ]
  },
  {
   "cell_type": "code",
   "execution_count": 7,
   "id": "f18ef035",
   "metadata": {},
   "outputs": [],
   "source": [
    "#conn.commit()\n",
    "# conn.close()\n",
    "\n",
    "# df.head()  --> tem que recarregar a tabela pra o dataframe , o sqlnao muda o df automatico\n",
    "# conn.close()"
   ]
  },
  {
   "cell_type": "code",
   "execution_count": 8,
   "id": "5aa76a8c",
   "metadata": {},
   "outputs": [
    {
     "name": "stdout",
     "output_type": "stream",
     "text": [
      "File exists\n"
     ]
    }
   ],
   "source": [
    "main()\n"
   ]
  },
  {
   "cell_type": "code",
   "execution_count": null,
   "id": "0d52f942",
   "metadata": {},
   "outputs": [],
   "source": []
  }
 ],
 "metadata": {
  "kernelspec": {
   "display_name": "Python 3",
   "language": "python",
   "name": "python3"
  },
  "language_info": {
   "codemirror_mode": {
    "name": "ipython",
    "version": 3
   },
   "file_extension": ".py",
   "mimetype": "text/x-python",
   "name": "python",
   "nbconvert_exporter": "python",
   "pygments_lexer": "ipython3",
   "version": "3.8.8"
  }
 },
 "nbformat": 4,
 "nbformat_minor": 5
}
